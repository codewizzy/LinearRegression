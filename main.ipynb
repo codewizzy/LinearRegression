{
  "nbformat": 4,
  "nbformat_minor": 0,
  "metadata": {
    "colab": {
      "name": "IIT2018085_q2.ipynb",
      "provenance": [],
      "collapsed_sections": []
    },
    "kernelspec": {
      "name": "python3",
      "display_name": "Python 3"
    }
  },
  "cells": [
    {
      "cell_type": "code",
      "metadata": {
        "id": "trB6L2h726aa"
      },
      "source": [
        "#IIT2018085 \r\n",
        "\r\n",
        "import pandas\r\n",
        "import numpy as np\r\n",
        "from math import inf\r\n",
        "import matplotlib.pyplot as plt\r\n",
        "\r\n",
        "dataSet=pandas.read_excel('data.xlsx')\r\n",
        "#dataSet"
      ],
      "execution_count": 37,
      "outputs": []
    },
    {
      "cell_type": "code",
      "metadata": {
        "id": "ZDVHpVt83Szd"
      },
      "source": [
        "# y = b0+b1x\r\n",
        "# using ordinary least mean square method\r\n",
        "\r\n",
        "X = dataSet['x'].values    # Input variable\r\n",
        "Y = dataSet['y'].values    # output variable\r\n"
      ],
      "execution_count": 38,
      "outputs": []
    },
    {
      "cell_type": "code",
      "metadata": {
        "id": "2bv2FMgB4LcU"
      },
      "source": [
        "xval = np.mean(X)\r\n",
        "yval = np.mean(Y)\r\n",
        "\r\n",
        "num = 0\r\n",
        "den = 0\r\n",
        "\r\n",
        "for i in range(len(X)):\r\n",
        "  num+=(X[i]-xval)*(Y[i]-yval)\r\n",
        "  den+=(X[i]-xval)**2\r\n",
        "\r\n",
        "bias = num/den\r\n",
        "b0 = yval-(bias*xval)"
      ],
      "execution_count": 39,
      "outputs": []
    },
    {
      "cell_type": "code",
      "metadata": {
        "id": "omLZqsoM5HOz"
      },
      "source": [
        "rmse = 0\r\n",
        "for i in range(len(X)):\r\n",
        "    predictedY = b0 + bias * X[i]\r\n",
        "    rmse += (Y[i] - predictedY) ** 2\r\n",
        "rmse = np.sqrt(rmse/len(X))\r\n"
      ],
      "execution_count": 40,
      "outputs": []
    },
    {
      "cell_type": "code",
      "metadata": {
        "colab": {
          "base_uri": "https://localhost:8080/"
        },
        "id": "Avk5YcZA5T_0",
        "outputId": "6c7af3a2-73b6-4148-c717-7351e7bac378"
      },
      "source": [
        "linear = 0\r\n",
        "line = 0\r\n",
        "for i in range(len(X)):\r\n",
        "    predictedY = b0 + bias * X[i]\r\n",
        "    linear += (Y[i] - yval) ** 2\r\n",
        "    line += (Y[i] - predictedY) ** 2\r\n",
        "\r\n",
        "r2 = 1 - (line/linear)\r\n",
        "\r\n",
        "print(\"The scale factor = \",bias)\r\n",
        "print(\"Root mean square error = \",rmse)\r\n",
        "print(\"The bias coefficient = \",b0)\r\n",
        "print(\"Model Score = \",r2)"
      ],
      "execution_count": 41,
      "outputs": [
        {
          "output_type": "stream",
          "text": [
            "The scale factor =  0.7403525908975778\n",
            "Root mean square error =  1.6880368476629237\n",
            "The bias coefficient =  1.1750208099178723\n",
            "Model Score =  0.5805739865248508\n"
          ],
          "name": "stdout"
        }
      ]
    }
  ]
}